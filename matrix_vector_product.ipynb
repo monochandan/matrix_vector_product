{
 "cells": [
  {
   "cell_type": "code",
   "execution_count": 3,
   "metadata": {},
   "outputs": [],
   "source": [
    "def vector_matrix_product(mat, row, column,v):\n",
    "    print('Given Matrix: ')\n",
    "    for i in range(row):\n",
    "        for j in range(column):\n",
    "            print(mat[i][j],end=\" \")\n",
    "        print()\n",
    "        \n",
    "    print()\n",
    "    print('Given Vector: ')\n",
    "    for i in range(n):\n",
    "        print(v[i],end=\" \")\n",
    "        print()\n",
    "\n",
    "    print()\n",
    "    \n",
    "\n",
    "    for i in range(m): #row\n",
    "        for j in range(n): #column\n",
    "            mat[i][j] = mat[i][j] * v [j] \n",
    "\n",
    "    print('Matrix-Vector Product is: ')\n",
    "\n",
    "    for i in range(m): #row\n",
    "        for j in range(n): #column\n",
    "            print(mat[i][j],end=\" \")\n",
    "        print()\n",
    "\n"
   ]
  },
  {
   "cell_type": "code",
   "execution_count": 4,
   "metadata": {},
   "outputs": [
    {
     "name": "stdout",
     "output_type": "stream",
     "text": [
      "\n",
      "\n",
      "\n",
      "\n",
      "\n",
      "\n",
      "1 2 3 \n",
      "1 2 3 \n",
      "1 2 3 \n",
      "Given Matrix: \n",
      "1 2 3 \n",
      "1 2 3 \n",
      "1 2 3 \n",
      "\n",
      "Given Vector: \n",
      "1 \n",
      "2 \n",
      "3 \n",
      "\n",
      "Matrix-Vector Product is: \n",
      "1 4 9 \n",
      "1 4 9 \n",
      "1 4 9 \n"
     ]
    }
   ],
   "source": [
    " \n",
    "m = int(input('Enter number of rows:'))\n",
    "n = int(input('Enter number of columns:'))\n",
    "matrix = []\n",
    "vector = []\n",
    "\n",
    "for i in range(0, m):\n",
    "    c = []\n",
    "    for j in range(0, n):\n",
    "        j = int(input('Enter value for '+str(i)+ ' ' + str(j) + ': '))\n",
    "        c.append(j)\n",
    "    print()\n",
    "    matrix.append(c)\n",
    "\n",
    "\n",
    "\n",
    "for i in range(n):\n",
    "    i = int(input('Enter vector value for '+str(i)))\n",
    "    vector.append(i)\n",
    "    print()\n",
    "\n",
    "\n",
    "for i in range(0, m):\n",
    "        for j in range(0, n):\n",
    "            print(matrix[i][j],end=\" \")\n",
    "        print()\n",
    "\n",
    "vector_matrix_product(matrix, m, n,vector)\n"
   ]
  },
  {
   "cell_type": "code",
   "execution_count": 15,
   "metadata": {},
   "outputs": [
    {
     "name": "stdout",
     "output_type": "stream",
     "text": [
      "Matrix: \n",
      "[[0 1 2]\n",
      " [3 4 5]\n",
      " [6 7 8]]\n",
      "\n",
      "Vector: \n",
      "[[0]\n",
      " [1]\n",
      " [2]]\n",
      "\n",
      "Matrix vector product is: \n",
      "0 1 4 \n",
      "0 4 10 \n",
      "0 7 16 \n"
     ]
    }
   ],
   "source": [
    "import numpy as np\n",
    "\n",
    "#a = np.array([(1, 2, 3),(1, 2, 3),(1, 2, 3)]) # matrix m * n\n",
    "#print(a)\n",
    "#b = np.array([(2),(2),(2)]) # vector\n",
    "#print(b)\n",
    "row = 3\n",
    "column = 3\n",
    "a = np.arange(9).reshape(row, column)\n",
    "b = np.arange(3).reshape(row, 1 )\n",
    "\n",
    "print('Matrix: ')\n",
    "print(a)\n",
    "print()\n",
    "print('Vector: ')\n",
    "print(b)\n",
    "\n",
    "# length = len(a)\n",
    "\n",
    "for i in range(row):\n",
    "    for j in range(column):\n",
    "         a[i][j] = a[i][j] * b[j]\n",
    "print()\n",
    "print('Matrix vector product is: ')\n",
    "for i in range(0, m):\n",
    "        for j in range(0, n):\n",
    "            print(a[i][j],end=\" \")\n",
    "        print()\n"
   ]
  },
  {
   "cell_type": "code",
   "execution_count": 31,
   "metadata": {},
   "outputs": [
    {
     "name": "stdout",
     "output_type": "stream",
     "text": [
      "Matrix: \n",
      "[[1 2 3]\n",
      " [1 2 3]\n",
      " [1 2 3]]\n",
      "Vector: \n",
      "[[1]\n",
      " [2]\n",
      " [3]]\n",
      "1 4 9 \n",
      "1 4 9 \n",
      "1 4 9 \n"
     ]
    }
   ],
   "source": [
    "a = np.array([[1, 2, 3],[1, 2, 3],[1, 2, 3]])\n",
    "b = np.array([[1],[2],[3]])\n",
    "\n",
    "r,c = np.shape(a)\n",
    "\n",
    "print('Matrix: ')\n",
    "print(a)\n",
    "\n",
    "print('Vector: ')\n",
    "print(b)\n",
    "\n",
    "#print(r)\n",
    "#print(c)\n",
    "\n",
    "for i in range(r):\n",
    "    for j in range(c):\n",
    "         a[i][j] = a[i][j] * b[j]\n",
    "\n",
    "for i in range(r):\n",
    "        for j in range(c):\n",
    "            print(a[i][j],end=\" \")\n",
    "        print()"
   ]
  },
  {
   "cell_type": "code",
   "execution_count": 35,
   "metadata": {},
   "outputs": [
    {
     "name": "stdout",
     "output_type": "stream",
     "text": [
      "\n",
      "[[14]\n",
      " [14]\n",
      " [14]]\n",
      "\n",
      "[[14]\n",
      " [14]\n",
      " [14]]\n",
      "\n",
      "[[14]\n",
      " [14]\n",
      " [14]]\n",
      "\n",
      "[[14]\n",
      " [14]\n",
      " [14]]\n"
     ]
    }
   ],
   "source": [
    "a = np.array([[1, 2, 3],[1, 2, 3],[1, 2, 3]])\n",
    "b = np.array([[1],[2],[3]])\n",
    "\n",
    "product = a.dot(b)\n",
    "product1 = a@b\n",
    "product2 = np.matmul(a,b)\n",
    "product3 = np.dot(a,b)\n",
    "\n",
    "print()\n",
    "print(product)\n",
    "\n",
    "print()\n",
    "print(product1)\n",
    "\n",
    "print()\n",
    "print(product2)\n",
    "\n",
    "print()\n",
    "print(product3)\n"
   ]
  },
  {
   "cell_type": "code",
   "execution_count": 16,
   "metadata": {},
   "outputs": [
    {
     "name": "stdout",
     "output_type": "stream",
     "text": [
      "\n",
      "  (0, 0)\t1\n",
      "  (0, 2)\t3\n",
      "  (1, 0)\t1\n",
      "  (1, 1)\t2\n",
      "  (2, 1)\t1\n",
      "  (2, 2)\t3\n",
      "3\n",
      "3\n",
      "\n",
      "Matrix vector product using for loop: \n"
     ]
    },
    {
     "ename": "ValueError",
     "evalue": "dimension mismatch",
     "output_type": "error",
     "traceback": [
      "\u001b[1;31m---------------------------------------------------------------------------\u001b[0m",
      "\u001b[1;31mValueError\u001b[0m                                Traceback (most recent call last)",
      "\u001b[1;32m~\\AppData\\Local\\Temp/ipykernel_19976/2172127401.py\u001b[0m in \u001b[0;36m<module>\u001b[1;34m\u001b[0m\n\u001b[0;32m     17\u001b[0m \u001b[1;32mfor\u001b[0m \u001b[0mi\u001b[0m \u001b[1;32min\u001b[0m \u001b[0mrange\u001b[0m\u001b[1;33m(\u001b[0m\u001b[0mc\u001b[0m\u001b[1;33m)\u001b[0m\u001b[1;33m:\u001b[0m\u001b[1;33m\u001b[0m\u001b[1;33m\u001b[0m\u001b[0m\n\u001b[0;32m     18\u001b[0m     \u001b[1;31m#for j in range(c):\u001b[0m\u001b[1;33m\u001b[0m\u001b[1;33m\u001b[0m\u001b[0m\n\u001b[1;32m---> 19\u001b[1;33m          \u001b[0ms\u001b[0m\u001b[1;33m[\u001b[0m\u001b[0mi\u001b[0m\u001b[1;33m]\u001b[0m \u001b[1;33m=\u001b[0m \u001b[0ms\u001b[0m\u001b[1;33m[\u001b[0m\u001b[0mi\u001b[0m\u001b[1;33m]\u001b[0m \u001b[1;33m*\u001b[0m \u001b[0mb\u001b[0m\u001b[1;33m[\u001b[0m\u001b[0mi\u001b[0m\u001b[1;33m]\u001b[0m\u001b[1;33m\u001b[0m\u001b[1;33m\u001b[0m\u001b[0m\n\u001b[0m\u001b[0;32m     20\u001b[0m \u001b[1;33m\u001b[0m\u001b[0m\n\u001b[0;32m     21\u001b[0m \u001b[1;33m\u001b[0m\u001b[0m\n",
      "\u001b[1;32mC:\\ProgramData\\Miniconda3\\envs\\first_env_for_practice\\lib\\site-packages\\scipy\\sparse\\base.py\u001b[0m in \u001b[0;36m__mul__\u001b[1;34m(self, other)\u001b[0m\n\u001b[0;32m    496\u001b[0m             \u001b[1;31m# dense row or column vector\u001b[0m\u001b[1;33m\u001b[0m\u001b[1;33m\u001b[0m\u001b[0m\n\u001b[0;32m    497\u001b[0m             \u001b[1;32mif\u001b[0m \u001b[0mother\u001b[0m\u001b[1;33m.\u001b[0m\u001b[0mshape\u001b[0m \u001b[1;33m!=\u001b[0m \u001b[1;33m(\u001b[0m\u001b[0mN\u001b[0m\u001b[1;33m,\u001b[0m\u001b[1;33m)\u001b[0m \u001b[1;32mand\u001b[0m \u001b[0mother\u001b[0m\u001b[1;33m.\u001b[0m\u001b[0mshape\u001b[0m \u001b[1;33m!=\u001b[0m \u001b[1;33m(\u001b[0m\u001b[0mN\u001b[0m\u001b[1;33m,\u001b[0m \u001b[1;36m1\u001b[0m\u001b[1;33m)\u001b[0m\u001b[1;33m:\u001b[0m\u001b[1;33m\u001b[0m\u001b[1;33m\u001b[0m\u001b[0m\n\u001b[1;32m--> 498\u001b[1;33m                 \u001b[1;32mraise\u001b[0m \u001b[0mValueError\u001b[0m\u001b[1;33m(\u001b[0m\u001b[1;34m'dimension mismatch'\u001b[0m\u001b[1;33m)\u001b[0m\u001b[1;33m\u001b[0m\u001b[1;33m\u001b[0m\u001b[0m\n\u001b[0m\u001b[0;32m    499\u001b[0m \u001b[1;33m\u001b[0m\u001b[0m\n\u001b[0;32m    500\u001b[0m             \u001b[0mresult\u001b[0m \u001b[1;33m=\u001b[0m \u001b[0mself\u001b[0m\u001b[1;33m.\u001b[0m\u001b[0m_mul_vector\u001b[0m\u001b[1;33m(\u001b[0m\u001b[0mnp\u001b[0m\u001b[1;33m.\u001b[0m\u001b[0mravel\u001b[0m\u001b[1;33m(\u001b[0m\u001b[0mother\u001b[0m\u001b[1;33m)\u001b[0m\u001b[1;33m)\u001b[0m\u001b[1;33m\u001b[0m\u001b[1;33m\u001b[0m\u001b[0m\n",
      "\u001b[1;31mValueError\u001b[0m: dimension mismatch"
     ]
    }
   ],
   "source": [
    "import numpy as np\n",
    "from scipy.sparse import csr_matrix\n",
    "\n",
    "a = np.array([[1, 0, 3],[1, 2, 0],[0, 1, 3]])\n",
    "b = np.array([[1],[2],[3]])\n",
    "\n",
    "s = csr_matrix(a)\n",
    "\n",
    "r,c = np.shape(s)\n",
    "print()\n",
    "print(s)\n",
    "print(r)\n",
    "print(c)\n",
    "\n",
    "print()\n",
    "print('Matrix vector product using for loop: ')\n",
    "for i in range(r):\n",
    "    #for j in range(c):\n",
    "         s[i] = s[i] * b[i]\n",
    "\n",
    "\n",
    "for i in range(r):\n",
    "        #for j in range(c):\n",
    "            print(s[i],end=\" \")\n",
    "\n",
    "print()\n",
    "print('Matrix vector product without for loop: ')\n",
    "\n",
    "product = a.dot(b)\n",
    "print(product)\n",
    "# print()\n",
    "# b = s.todense()\n",
    "\n",
    "# print(b)\n"
   ]
  }
 ],
 "metadata": {
  "interpreter": {
   "hash": "539e696b46079bd60535e35cfc42823da8d0d93f7bb275727d1f97863f1288bc"
  },
  "kernelspec": {
   "display_name": "Python 3.9.7 64-bit ('first_env_for_practice': conda)",
   "name": "python3"
  },
  "language_info": {
   "codemirror_mode": {
    "name": "ipython",
    "version": 3
   },
   "file_extension": ".py",
   "mimetype": "text/x-python",
   "name": "python",
   "nbconvert_exporter": "python",
   "pygments_lexer": "ipython3",
   "version": "3.9.7"
  },
  "orig_nbformat": 4
 },
 "nbformat": 4,
 "nbformat_minor": 2
}
